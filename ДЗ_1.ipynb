{
  "nbformat": 4,
  "nbformat_minor": 0,
  "metadata": {
    "colab": {
      "name": "ДЗ_1.ipynb",
      "provenance": [],
      "collapsed_sections": [],
      "authorship_tag": "ABX9TyMxf/btLo2Ou/mSxtMv+cPn",
      "include_colab_link": true
    },
    "kernelspec": {
      "name": "python3",
      "display_name": "Python 3"
    },
    "language_info": {
      "name": "python"
    }
  },
  "cells": [
    {
      "cell_type": "markdown",
      "metadata": {
        "id": "view-in-github",
        "colab_type": "text"
      },
      "source": [
        "<a href=\"https://colab.research.google.com/github/AlexanderGir/Teorver_Matstat/blob/main/%D0%94%D0%97_1.ipynb\" target=\"_parent\"><img src=\"https://colab.research.google.com/assets/colab-badge.svg\" alt=\"Open In Colab\"/></a>"
      ]
    },
    {
      "cell_type": "markdown",
      "metadata": {
        "id": "SD0eEHvL6j1a"
      },
      "source": [
        "#1. Из колоды в 52 карты извлекаются случайным образом 4 карты. a) Найти вероятность того, что все карты – крести. б) Найти вероятность, что среди 4-х карт окажется хотя бы один туз."
      ]
    },
    {
      "cell_type": "code",
      "metadata": {
        "id": "62T_Bi4r6C_6"
      },
      "source": [
        "import numpy as np\n",
        "from math import factorial\n",
        "def combinations(n, k):\n",
        "    return int(factorial(n) / (factorial(k) * factorial(n - k)))"
      ],
      "execution_count": null,
      "outputs": []
    },
    {
      "cell_type": "markdown",
      "metadata": {
        "id": "wd5gB77N7EQb"
      },
      "source": [
        "Рассматриваем ситуацию, когда из 4 карт все карты крести. Всего в колоде 13 карт крести.\n",
        "\n",
        "Число сочетаний будет равно:\n"
      ]
    },
    {
      "cell_type": "code",
      "metadata": {
        "colab": {
          "base_uri": "https://localhost:8080/"
        },
        "id": "vm15whKj7Aku",
        "outputId": "a073d317-2567-4119-ab6f-34a596c4f813"
      },
      "source": [
        "combinations(13, 4)"
      ],
      "execution_count": null,
      "outputs": [
        {
          "output_type": "execute_result",
          "data": {
            "text/plain": [
              "715"
            ]
          },
          "metadata": {},
          "execution_count": 6
        }
      ]
    },
    {
      "cell_type": "markdown",
      "metadata": {
        "id": "F4wsJrIC-6dv"
      },
      "source": [
        "Количество всех возможных сочетаний любых 4 карт из 52:"
      ]
    },
    {
      "cell_type": "code",
      "metadata": {
        "colab": {
          "base_uri": "https://localhost:8080/"
        },
        "id": "MbbBG-ul-_YM",
        "outputId": "175878f8-0183-4815-ad39-f3595445186d"
      },
      "source": [
        "combinations(52, 4)"
      ],
      "execution_count": null,
      "outputs": [
        {
          "output_type": "execute_result",
          "data": {
            "text/plain": [
              "270725"
            ]
          },
          "metadata": {},
          "execution_count": 12
        }
      ]
    },
    {
      "cell_type": "markdown",
      "metadata": {
        "id": "xcatzqC2_KAz"
      },
      "source": [
        "Вероятность того, что 4 карты из 52 будут крести:"
      ]
    },
    {
      "cell_type": "code",
      "metadata": {
        "colab": {
          "base_uri": "https://localhost:8080/"
        },
        "id": "azNKuHoaDdUD",
        "outputId": "5ee21189-6ca5-4f34-8885-8a1d01b415ec"
      },
      "source": [
        "715 / 270725"
      ],
      "execution_count": null,
      "outputs": [
        {
          "output_type": "execute_result",
          "data": {
            "text/plain": [
              "0.0026410564225690276"
            ]
          },
          "metadata": {},
          "execution_count": 15
        }
      ]
    },
    {
      "cell_type": "markdown",
      "metadata": {
        "id": "3pHi55v6DxMi"
      },
      "source": [
        "**Пункт б**"
      ]
    },
    {
      "cell_type": "markdown",
      "metadata": {
        "id": "u1X9MVNY9rO3"
      },
      "source": [
        "Сочетания, когда из 4-х карт хотя бы 1 туз:"
      ]
    },
    {
      "cell_type": "code",
      "metadata": {
        "colab": {
          "base_uri": "https://localhost:8080/"
        },
        "id": "vAvRajd_9ziA",
        "outputId": "799f5b25-adcc-48e4-dbc0-40f9290a3cfa"
      },
      "source": [
        "combinations(4, 1)"
      ],
      "execution_count": null,
      "outputs": [
        {
          "output_type": "execute_result",
          "data": {
            "text/plain": [
              "4"
            ]
          },
          "metadata": {},
          "execution_count": 9
        }
      ]
    },
    {
      "cell_type": "markdown",
      "metadata": {
        "id": "LGKYKLFjM8pR"
      },
      "source": [
        "Сочетания, когда из 4-х карт хотя бы 2 туза:"
      ]
    },
    {
      "cell_type": "code",
      "metadata": {
        "colab": {
          "base_uri": "https://localhost:8080/"
        },
        "id": "ZAR0pp0CJK5x",
        "outputId": "aabd79ac-7094-4e51-d392-278d57b41c2e"
      },
      "source": [
        "combinations(4, 2)"
      ],
      "execution_count": null,
      "outputs": [
        {
          "output_type": "execute_result",
          "data": {
            "text/plain": [
              "6"
            ]
          },
          "metadata": {},
          "execution_count": 50
        }
      ]
    },
    {
      "cell_type": "markdown",
      "metadata": {
        "id": "kZTvzo3rM-re"
      },
      "source": [
        "Сочетания, когда из 4-х карт хотя бы 3 туза:"
      ]
    },
    {
      "cell_type": "code",
      "metadata": {
        "colab": {
          "base_uri": "https://localhost:8080/"
        },
        "id": "K7eCtZDOJLc0",
        "outputId": "a293c0a1-8745-416e-f74d-94d3e9f5e2ca"
      },
      "source": [
        "combinations(4, 3)"
      ],
      "execution_count": null,
      "outputs": [
        {
          "output_type": "execute_result",
          "data": {
            "text/plain": [
              "4"
            ]
          },
          "metadata": {},
          "execution_count": 49
        }
      ]
    },
    {
      "cell_type": "markdown",
      "metadata": {
        "id": "a8USM5dnNHSl"
      },
      "source": [
        "Сочетания, когда из 4-х карт все тузы:"
      ]
    },
    {
      "cell_type": "code",
      "metadata": {
        "colab": {
          "base_uri": "https://localhost:8080/"
        },
        "id": "VNBm9Wm-L7Ve",
        "outputId": "def2d74e-9e0c-44c9-d0ed-0735eb0c8e01"
      },
      "source": [
        "combinations(4, 4)"
      ],
      "execution_count": null,
      "outputs": [
        {
          "output_type": "execute_result",
          "data": {
            "text/plain": [
              "1"
            ]
          },
          "metadata": {},
          "execution_count": 72
        }
      ]
    },
    {
      "cell_type": "markdown",
      "metadata": {
        "id": "vgRehlbGIN6k"
      },
      "source": [
        "Сочетания 4 карт без тузов, когда выпал 1 туз:"
      ]
    },
    {
      "cell_type": "code",
      "metadata": {
        "colab": {
          "base_uri": "https://localhost:8080/"
        },
        "id": "ytiQ5sTaIkvf",
        "outputId": "36e76dfe-8d3f-4015-f54a-8f382e68ac03"
      },
      "source": [
        "combinations(48, 3)"
      ],
      "execution_count": null,
      "outputs": [
        {
          "output_type": "execute_result",
          "data": {
            "text/plain": [
              "17296"
            ]
          },
          "metadata": {},
          "execution_count": 44
        }
      ]
    },
    {
      "cell_type": "markdown",
      "metadata": {
        "id": "qWxq8I2mNakZ"
      },
      "source": [
        "Сочетания 4 карт без тузов, когда выпало 2 туза:"
      ]
    },
    {
      "cell_type": "code",
      "metadata": {
        "colab": {
          "base_uri": "https://localhost:8080/"
        },
        "id": "EZbxs8Z7IrJo",
        "outputId": "abc34be4-2f9e-45d3-fbb2-84ae3abc7b05"
      },
      "source": [
        "combinations(48, 2)"
      ],
      "execution_count": null,
      "outputs": [
        {
          "output_type": "execute_result",
          "data": {
            "text/plain": [
              "1128"
            ]
          },
          "metadata": {},
          "execution_count": 45
        }
      ]
    },
    {
      "cell_type": "markdown",
      "metadata": {
        "id": "2cWlgEbpNcdv"
      },
      "source": [
        "Сочетания 4 карт без тузов, когда выпало 3 туза:"
      ]
    },
    {
      "cell_type": "code",
      "metadata": {
        "colab": {
          "base_uri": "https://localhost:8080/"
        },
        "id": "95NgQN-GIswL",
        "outputId": "57d5238c-1106-482a-833a-59d62ecd089e"
      },
      "source": [
        "combinations(48, 1)"
      ],
      "execution_count": null,
      "outputs": [
        {
          "output_type": "execute_result",
          "data": {
            "text/plain": [
              "48"
            ]
          },
          "metadata": {},
          "execution_count": 46
        }
      ]
    },
    {
      "cell_type": "markdown",
      "metadata": {
        "id": "V6Ovf4OFNPMb"
      },
      "source": [
        "Вероятность того, что среди 4 карт из 52 хотя бы 1 туз:"
      ]
    },
    {
      "cell_type": "code",
      "metadata": {
        "colab": {
          "base_uri": "https://localhost:8080/"
        },
        "id": "f7hc2Ux6JIBL",
        "outputId": "d194013e-c312-4063-f6fa-189768511acd"
      },
      "source": [
        "(17296 * 4 / 270725) + (1128 * 6 / 270725) + (48 * 4 / 270725) + (1 / 270725) "
      ],
      "execution_count": null,
      "outputs": [
        {
          "output_type": "execute_result",
          "data": {
            "text/plain": [
              "0.2812632745405855"
            ]
          },
          "metadata": {},
          "execution_count": 70
        }
      ]
    },
    {
      "cell_type": "markdown",
      "metadata": {
        "id": "avGUdzqND8Y2"
      },
      "source": [
        "# 2. На входной двери подъезда установлен кодовый замок, содержащий десять кнопок с цифрами от 0 до 9. Код содержит три цифры, которые нужно нажать одновременно. Какова вероятность того, что человек, не знающий код, откроет дверь с первой попытки?\n",
        "\n"
      ]
    },
    {
      "cell_type": "markdown",
      "metadata": {
        "id": "xieKKUgBPpvp"
      },
      "source": [
        "Число сочетаний 3 кнопок из 10:"
      ]
    },
    {
      "cell_type": "code",
      "metadata": {
        "colab": {
          "base_uri": "https://localhost:8080/"
        },
        "id": "j1AIIGlCFDv2",
        "outputId": "51405381-e702-42e6-f7c8-57f8995c2a6a"
      },
      "source": [
        "combinations(10, 3)"
      ],
      "execution_count": null,
      "outputs": [
        {
          "output_type": "execute_result",
          "data": {
            "text/plain": [
              "120"
            ]
          },
          "metadata": {},
          "execution_count": 17
        }
      ]
    },
    {
      "cell_type": "markdown",
      "metadata": {
        "id": "OziG3i3zOIsu"
      },
      "source": [
        "Комбинации из 3 цифр, когда все 3 верные"
      ]
    },
    {
      "cell_type": "code",
      "metadata": {
        "colab": {
          "base_uri": "https://localhost:8080/"
        },
        "id": "Fo0UUkD4OYzi",
        "outputId": "45d6fe66-bdd7-474c-c1e4-2531da93ac4f"
      },
      "source": [
        "combinations(3, 3)"
      ],
      "execution_count": null,
      "outputs": [
        {
          "output_type": "execute_result",
          "data": {
            "text/plain": [
              "1"
            ]
          },
          "metadata": {},
          "execution_count": 74
        }
      ]
    },
    {
      "cell_type": "markdown",
      "metadata": {
        "id": "wOpSsonedlmi"
      },
      "source": [
        "Вероятность, что человек откроет дверь с 1 попытки:"
      ]
    },
    {
      "cell_type": "code",
      "metadata": {
        "colab": {
          "base_uri": "https://localhost:8080/"
        },
        "id": "cvgmlwcZdrei",
        "outputId": "5d871c3e-ed23-4b00-c787-7e51987f8f82"
      },
      "source": [
        "1 / 120"
      ],
      "execution_count": null,
      "outputs": [
        {
          "output_type": "execute_result",
          "data": {
            "text/plain": [
              "0.008333333333333333"
            ]
          },
          "metadata": {},
          "execution_count": 75
        }
      ]
    },
    {
      "cell_type": "markdown",
      "metadata": {
        "id": "4QR0q09QdxPT"
      },
      "source": [
        "# 3. В ящике имеется 15 деталей, из которых 9 окрашены. Рабочий случайным образом извлекает 3 детали. Какова вероятность того, что все извлеченные детали окрашены?"
      ]
    },
    {
      "cell_type": "markdown",
      "metadata": {
        "id": "2GdlL7nqPC4O"
      },
      "source": [
        "Количество комбинаций, при которых 3 детали окрашены из 9 возможных:\n",
        "\n"
      ]
    },
    {
      "cell_type": "code",
      "metadata": {
        "colab": {
          "base_uri": "https://localhost:8080/"
        },
        "id": "feA47_SdeLTP",
        "outputId": "90e72918-4f3f-4572-ea48-be8475cec4e4"
      },
      "source": [
        "combinations(9, 3)"
      ],
      "execution_count": null,
      "outputs": [
        {
          "output_type": "execute_result",
          "data": {
            "text/plain": [
              "84"
            ]
          },
          "metadata": {},
          "execution_count": 22
        }
      ]
    },
    {
      "cell_type": "markdown",
      "metadata": {
        "id": "wHBWynIweP5j"
      },
      "source": [
        "Количество комбинаций 3 различных деталей из 15:"
      ]
    },
    {
      "cell_type": "code",
      "metadata": {
        "colab": {
          "base_uri": "https://localhost:8080/"
        },
        "id": "cgZkHGHSeUHh",
        "outputId": "ec50f383-81f0-4a47-913c-fae2cceac7da"
      },
      "source": [
        "combinations(15, 3)"
      ],
      "execution_count": null,
      "outputs": [
        {
          "output_type": "execute_result",
          "data": {
            "text/plain": [
              "455"
            ]
          },
          "metadata": {},
          "execution_count": 23
        }
      ]
    },
    {
      "cell_type": "markdown",
      "metadata": {
        "id": "rWd9e2bNeYiE"
      },
      "source": [
        "Вероятность, что все извлеченные детали окрашены:\n",
        "\n"
      ]
    },
    {
      "cell_type": "code",
      "metadata": {
        "colab": {
          "base_uri": "https://localhost:8080/"
        },
        "id": "ZP5jQAanBqy-",
        "outputId": "4a9506cc-2e0f-45a3-ad8c-5478be2a4943"
      },
      "source": [
        "84 / 455"
      ],
      "execution_count": null,
      "outputs": [
        {
          "output_type": "execute_result",
          "data": {
            "text/plain": [
              "0.18461538461538463"
            ]
          },
          "metadata": {},
          "execution_count": 24
        }
      ]
    },
    {
      "cell_type": "markdown",
      "metadata": {
        "id": "xZo_IuR8Bt1r"
      },
      "source": [
        "# 4. В лотерее 100 билетов. Из них 2 выигрышных. Какова вероятность того, что 2 приобретенных билета окажутся выигрышными?"
      ]
    },
    {
      "cell_type": "markdown",
      "metadata": {
        "id": "RTduXABKBzTX"
      },
      "source": [
        "Количество комбинаций при приобретении 2 билетов из 100+"
      ]
    },
    {
      "cell_type": "code",
      "metadata": {
        "colab": {
          "base_uri": "https://localhost:8080/"
        },
        "id": "I0Elfs73B7Cx",
        "outputId": "8a4a2de0-8d10-4e42-85c3-1b96560e624f"
      },
      "source": [
        "combinations(100, 2)"
      ],
      "execution_count": null,
      "outputs": [
        {
          "output_type": "execute_result",
          "data": {
            "text/plain": [
              "4950"
            ]
          },
          "metadata": {},
          "execution_count": 25
        }
      ]
    },
    {
      "cell_type": "markdown",
      "metadata": {
        "id": "8KyL8KLWCA9c"
      },
      "source": [
        "Количество комбинаций 2 из 2 выигрышных билетов:"
      ]
    },
    {
      "cell_type": "code",
      "metadata": {
        "colab": {
          "base_uri": "https://localhost:8080/"
        },
        "id": "sxGpvECCCJU7",
        "outputId": "4a3a6b22-d2da-4a56-825c-ee476d1d16a5"
      },
      "source": [
        "combinations(2, 2)"
      ],
      "execution_count": null,
      "outputs": [
        {
          "output_type": "execute_result",
          "data": {
            "text/plain": [
              "1"
            ]
          },
          "metadata": {},
          "execution_count": 26
        }
      ]
    },
    {
      "cell_type": "markdown",
      "metadata": {
        "id": "Yf2-lvDsCNOT"
      },
      "source": [
        "Вероятность выпадения 2-х из 2-х выигрышных билетов:"
      ]
    },
    {
      "cell_type": "code",
      "metadata": {
        "colab": {
          "base_uri": "https://localhost:8080/"
        },
        "id": "ZctILfbNCXM_",
        "outputId": "cf2d9616-14df-4e63-e955-76d179e1eb71"
      },
      "source": [
        "1 / 4950"
      ],
      "execution_count": null,
      "outputs": [
        {
          "output_type": "execute_result",
          "data": {
            "text/plain": [
              "0.00020202020202020202"
            ]
          },
          "metadata": {},
          "execution_count": 27
        }
      ]
    }
  ]
}